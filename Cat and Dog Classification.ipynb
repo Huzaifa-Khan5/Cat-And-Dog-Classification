{
 "cells": [
  {
   "cell_type": "markdown",
   "id": "ef7611fb",
   "metadata": {},
   "source": [
    "# Importing Libraries"
   ]
  },
  {
   "cell_type": "code",
   "execution_count": null,
   "id": "8e51d43b",
   "metadata": {},
   "outputs": [],
   "source": [
    "import os,shutil\n",
    "from tensorflow.keras import layers\n",
    "from tensorflow.keras import models\n",
    "from keras import optimizers\n",
    "from keras.preprocessing.image import ImageDataGenerator"
   ]
  },
  {
   "cell_type": "markdown",
   "id": "63434e7c",
   "metadata": {},
   "source": [
    "# Creating paths and Making Directories"
   ]
  },
  {
   "cell_type": "code",
   "execution_count": 2,
   "id": "d102ad1c",
   "metadata": {},
   "outputs": [],
   "source": [
    "original_dataset_dir = r'D:\\huzaifa\\PIAIC\\Quater3\\cats and dogs\\dogs-vs-cats\\train\\train'"
   ]
  },
  {
   "cell_type": "code",
   "execution_count": 3,
   "id": "da975129",
   "metadata": {},
   "outputs": [],
   "source": [
    "base_dir = 'D:\\huzaifa\\PIAIC\\Quater3\\cats and dogs\\dogs-vs-cats'"
   ]
  },
  {
   "cell_type": "code",
   "execution_count": 4,
   "id": "f6dd0a98",
   "metadata": {},
   "outputs": [],
   "source": [
    "train_dir = os.path.join(base_dir, 'train_data')\n",
    "\n",
    "validation_dir = os.path.join(base_dir, 'validation_data')\n",
    "\n",
    "test_dir = os.path.join(base_dir, 'test_data')"
   ]
  },
  {
   "cell_type": "code",
   "execution_count": null,
   "id": "613b9bc8",
   "metadata": {},
   "outputs": [],
   "source": [
    "os.mkdir(train_dir)\n",
    "os.mkdir(validation_dir)\n",
    "os.mkdir(test_dir)"
   ]
  },
  {
   "cell_type": "code",
   "execution_count": 6,
   "id": "7188922c",
   "metadata": {},
   "outputs": [],
   "source": [
    "train_cats_dir = os.path.join(train_dir, 'cats')\n",
    "train_dogs_dir = os.path.join(train_dir, 'dogs')\n",
    "\n",
    "validation_cats_dir = os.path.join(validation_dir, 'cats')\n",
    "validation_dogs_dir = os.path.join(validation_dir, 'dogs')\n",
    "\n",
    "test_cats_dir = os.path.join(test_dir, 'cats')\n",
    "test_dogs_dir = os.path.join(test_dir, 'dogs')"
   ]
  },
  {
   "cell_type": "code",
   "execution_count": null,
   "id": "61a553cd",
   "metadata": {},
   "outputs": [],
   "source": [
    "os.mkdir(train_cats_dir)\n",
    "os.mkdir(train_dogs_dir)\n",
    "os.mkdir(validation_cats_dir)\n",
    "os.mkdir(validation_dogs_dir)\n",
    "os.mkdir(test_cats_dir)\n",
    "os.mkdir(test_dogs_dir)"
   ]
  },
  {
   "cell_type": "markdown",
   "id": "d0607d38",
   "metadata": {},
   "source": [
    "# copying data"
   ]
  },
  {
   "cell_type": "code",
   "execution_count": 10,
   "id": "ee2912e4",
   "metadata": {},
   "outputs": [],
   "source": [
    "fnames = [f'cat.{i}.jpg' for i in range(1000)]\n",
    "for fname in fnames:\n",
    "    src = os.path.join(original_dataset_dir, fname)\n",
    "    dst = os.path.join(train_cats_dir, fname)\n",
    "    shutil.copyfile(src, dst)"
   ]
  },
  {
   "cell_type": "code",
   "execution_count": 12,
   "id": "b60ce89b",
   "metadata": {},
   "outputs": [],
   "source": [
    "fnames = ['cat.{}.jpg'.format(i) for i in range(1000, 1500)]\n",
    "for fname in fnames:\n",
    "    src = os.path.join(original_dataset_dir, fname)\n",
    "    dst = os.path.join(validation_cats_dir, fname)\n",
    "    shutil.copyfile(src, dst)"
   ]
  },
  {
   "cell_type": "code",
   "execution_count": 13,
   "id": "51861043",
   "metadata": {},
   "outputs": [],
   "source": [
    "fnames = ['cat.{}.jpg'.format(i) for i in range(1500, 2000)]\n",
    "for fname in fnames:\n",
    "    src = os.path.join(original_dataset_dir, fname)\n",
    "    dst = os.path.join(test_cats_dir, fname)\n",
    "    shutil.copyfile(src, dst)"
   ]
  },
  {
   "cell_type": "code",
   "execution_count": 14,
   "id": "a8b751fa",
   "metadata": {},
   "outputs": [],
   "source": [
    "fnames = ['dog.{}.jpg'.format(i) for i in range(1000)]\n",
    "for fname in fnames:\n",
    "    src = os.path.join(original_dataset_dir, fname)\n",
    "    dst = os.path.join(train_dogs_dir, fname)\n",
    "    shutil.copyfile(src, dst)\n",
    "\n",
    "fnames = ['dog.{}.jpg'.format(i) for i in range(1000, 1500)]\n",
    "for fname in fnames:\n",
    "    src = os.path.join(original_dataset_dir, fname)\n",
    "    dst = os.path.join(validation_dogs_dir, fname)\n",
    "    shutil.copyfile(src, dst)\n",
    "\n",
    "fnames = ['dog.{}.jpg'.format(i) for i in range(1500, 2000)]\n",
    "for fname in fnames:\n",
    "    src = os.path.join(original_dataset_dir, fname)\n",
    "    dst = os.path.join(test_dogs_dir, fname)\n",
    "    shutil.copyfile(src, dst)"
   ]
  },
  {
   "cell_type": "markdown",
   "id": "ab3dc9b9",
   "metadata": {},
   "source": [
    "# Model Architecture"
   ]
  },
  {
   "cell_type": "code",
   "execution_count": 8,
   "id": "cd4bf90e",
   "metadata": {},
   "outputs": [],
   "source": [
    "model = models.Sequential()\n",
    "model.add(layers.Conv2D(32, (3, 3), activation='relu',input_shape=(150, 150, 3)))\n",
    "model.add(layers.MaxPooling2D((2, 2)))\n",
    "\n",
    "model.add(layers.Conv2D(64, (3, 3), activation='relu'))\n",
    "model.add(layers.MaxPooling2D((2, 2)))\n",
    "\n",
    "model.add(layers.Conv2D(128, (3, 3), activation='relu'))\n",
    "model.add(layers.MaxPooling2D((2, 2)))\n",
    "\n",
    "model.add(layers.Conv2D(128, (3, 3), activation='relu'))\n",
    "model.add(layers.MaxPooling2D((2, 2)))\n",
    "\n",
    "model.add(layers.Flatten())\n",
    "model.add(layers.Dense(512, activation='relu'))\n",
    "model.add(layers.Dense(1, activation='sigmoid'))"
   ]
  },
  {
   "cell_type": "code",
   "execution_count": 9,
   "id": "70d39876",
   "metadata": {},
   "outputs": [
    {
     "name": "stdout",
     "output_type": "stream",
     "text": [
      "Model: \"sequential\"\n",
      "_________________________________________________________________\n",
      " Layer (type)                Output Shape              Param #   \n",
      "=================================================================\n",
      " conv2d (Conv2D)             (None, 148, 148, 32)      896       \n",
      "                                                                 \n",
      " max_pooling2d (MaxPooling2D  (None, 74, 74, 32)       0         \n",
      " )                                                               \n",
      "                                                                 \n",
      " conv2d_1 (Conv2D)           (None, 72, 72, 64)        18496     \n",
      "                                                                 \n",
      " max_pooling2d_1 (MaxPooling  (None, 36, 36, 64)       0         \n",
      " 2D)                                                             \n",
      "                                                                 \n",
      " conv2d_2 (Conv2D)           (None, 34, 34, 128)       73856     \n",
      "                                                                 \n",
      " max_pooling2d_2 (MaxPooling  (None, 17, 17, 128)      0         \n",
      " 2D)                                                             \n",
      "                                                                 \n",
      " conv2d_3 (Conv2D)           (None, 15, 15, 128)       147584    \n",
      "                                                                 \n",
      " max_pooling2d_3 (MaxPooling  (None, 7, 7, 128)        0         \n",
      " 2D)                                                             \n",
      "                                                                 \n",
      " flatten (Flatten)           (None, 6272)              0         \n",
      "                                                                 \n",
      " dense (Dense)               (None, 512)               3211776   \n",
      "                                                                 \n",
      " dense_1 (Dense)             (None, 1)                 513       \n",
      "                                                                 \n",
      "=================================================================\n",
      "Total params: 3,453,121\n",
      "Trainable params: 3,453,121\n",
      "Non-trainable params: 0\n",
      "_________________________________________________________________\n"
     ]
    }
   ],
   "source": [
    " model.summary()"
   ]
  },
  {
   "cell_type": "code",
   "execution_count": 10,
   "id": "0fd72188",
   "metadata": {},
   "outputs": [
    {
     "name": "stderr",
     "output_type": "stream",
     "text": [
      "C:\\Users\\DELL\\AppData\\Local\\Programs\\Python\\Python310\\lib\\site-packages\\keras\\optimizers\\optimizer_v2\\rmsprop.py:143: UserWarning: The `lr` argument is deprecated, use `learning_rate` instead.\n",
      "  super().__init__(name, **kwargs)\n"
     ]
    }
   ],
   "source": [
    "model.compile(loss='binary_crossentropy',optimizer=optimizers.RMSprop(lr=1e-4),metrics=['acc'])"
   ]
  },
  {
   "cell_type": "code",
   "execution_count": 11,
   "id": "deedeebd",
   "metadata": {},
   "outputs": [
    {
     "name": "stdout",
     "output_type": "stream",
     "text": [
      "Found 2000 images belonging to 2 classes.\n"
     ]
    }
   ],
   "source": [
    "train_datagen = ImageDataGenerator(rescale=1./255)\n",
    "test_datagen = ImageDataGenerator(rescale=1./255)\n",
    "train_generator = train_datagen.flow_from_directory(train_dir,target_size=(150, 150),batch_size=20,class_mode='binary')"
   ]
  },
  {
   "cell_type": "code",
   "execution_count": 12,
   "id": "8446e3d4",
   "metadata": {},
   "outputs": [
    {
     "name": "stdout",
     "output_type": "stream",
     "text": [
      "Found 1000 images belonging to 2 classes.\n"
     ]
    }
   ],
   "source": [
    "validation_generator = test_datagen.flow_from_directory(validation_dir,target_size=(150, 150),batch_size=20,class_mode='binary')"
   ]
  },
  {
   "cell_type": "code",
   "execution_count": 13,
   "id": "fe0d2ac0",
   "metadata": {
    "scrolled": false
   },
   "outputs": [
    {
     "name": "stderr",
     "output_type": "stream",
     "text": [
      "C:\\Users\\DELL\\AppData\\Local\\Temp\\ipykernel_7680\\501769390.py:1: UserWarning: `Model.fit_generator` is deprecated and will be removed in a future version. Please use `Model.fit`, which supports generators.\n",
      "  history = model.fit_generator(train_generator,steps_per_epoch=100,epochs=30,validation_data=validation_generator,\n"
     ]
    },
    {
     "name": "stdout",
     "output_type": "stream",
     "text": [
      "Epoch 1/30\n",
      "100/100 [==============================] - 131s 1s/step - loss: 0.6895 - acc: 0.5350 - val_loss: 0.6765 - val_acc: 0.6310\n",
      "Epoch 2/30\n",
      "100/100 [==============================] - 75s 755ms/step - loss: 0.6516 - acc: 0.6295 - val_loss: 0.6392 - val_acc: 0.6630\n",
      "Epoch 3/30\n",
      "100/100 [==============================] - 75s 752ms/step - loss: 0.6028 - acc: 0.6765 - val_loss: 0.6265 - val_acc: 0.6440\n",
      "Epoch 4/30\n",
      "100/100 [==============================] - 77s 766ms/step - loss: 0.5693 - acc: 0.7015 - val_loss: 0.6018 - val_acc: 0.6650\n",
      "Epoch 5/30\n",
      "100/100 [==============================] - 81s 815ms/step - loss: 0.5400 - acc: 0.7280 - val_loss: 0.6099 - val_acc: 0.6790\n",
      "Epoch 6/30\n",
      "100/100 [==============================] - 81s 809ms/step - loss: 0.5080 - acc: 0.7565 - val_loss: 0.5660 - val_acc: 0.7000\n",
      "Epoch 7/30\n",
      "100/100 [==============================] - 76s 757ms/step - loss: 0.4837 - acc: 0.7650 - val_loss: 0.6447 - val_acc: 0.6670\n",
      "Epoch 8/30\n",
      "100/100 [==============================] - 79s 795ms/step - loss: 0.4572 - acc: 0.7825 - val_loss: 0.5554 - val_acc: 0.7180\n",
      "Epoch 9/30\n",
      "100/100 [==============================] - 73s 727ms/step - loss: 0.4354 - acc: 0.7905 - val_loss: 0.5469 - val_acc: 0.7170\n",
      "Epoch 10/30\n",
      "100/100 [==============================] - 69s 687ms/step - loss: 0.4059 - acc: 0.8065 - val_loss: 0.5463 - val_acc: 0.7250\n",
      "Epoch 11/30\n",
      "100/100 [==============================] - 68s 685ms/step - loss: 0.3809 - acc: 0.8285 - val_loss: 0.5728 - val_acc: 0.7110\n",
      "Epoch 12/30\n",
      "100/100 [==============================] - 70s 700ms/step - loss: 0.3554 - acc: 0.8460 - val_loss: 0.5465 - val_acc: 0.7370\n",
      "Epoch 13/30\n",
      "100/100 [==============================] - 70s 695ms/step - loss: 0.3271 - acc: 0.8550 - val_loss: 0.5837 - val_acc: 0.7090\n",
      "Epoch 14/30\n",
      "100/100 [==============================] - 69s 690ms/step - loss: 0.3188 - acc: 0.8630 - val_loss: 0.5554 - val_acc: 0.7420\n",
      "Epoch 15/30\n",
      "100/100 [==============================] - 71s 710ms/step - loss: 0.2837 - acc: 0.8825 - val_loss: 0.5761 - val_acc: 0.7330\n",
      "Epoch 16/30\n",
      "100/100 [==============================] - 807s 8s/step - loss: 0.2682 - acc: 0.8970 - val_loss: 0.6606 - val_acc: 0.7160\n",
      "Epoch 17/30\n",
      "100/100 [==============================] - 4762s 48s/step - loss: 0.2386 - acc: 0.9105 - val_loss: 0.6138 - val_acc: 0.7410\n",
      "Epoch 18/30\n",
      "100/100 [==============================] - 80s 802ms/step - loss: 0.2161 - acc: 0.9200 - val_loss: 0.6219 - val_acc: 0.7400\n",
      "Epoch 19/30\n",
      "100/100 [==============================] - 78s 778ms/step - loss: 0.1998 - acc: 0.9280 - val_loss: 0.6483 - val_acc: 0.7350\n",
      "Epoch 20/30\n",
      "100/100 [==============================] - 76s 763ms/step - loss: 0.1779 - acc: 0.9295 - val_loss: 0.6994 - val_acc: 0.7170\n",
      "Epoch 21/30\n",
      "100/100 [==============================] - 79s 787ms/step - loss: 0.1617 - acc: 0.9410 - val_loss: 0.7334 - val_acc: 0.7110\n",
      "Epoch 22/30\n",
      "100/100 [==============================] - 89s 891ms/step - loss: 0.1407 - acc: 0.9500 - val_loss: 0.7276 - val_acc: 0.7350\n",
      "Epoch 23/30\n",
      "100/100 [==============================] - 81s 814ms/step - loss: 0.1220 - acc: 0.9640 - val_loss: 0.8907 - val_acc: 0.7000\n",
      "Epoch 24/30\n",
      "100/100 [==============================] - 85s 856ms/step - loss: 0.1067 - acc: 0.9680 - val_loss: 0.7873 - val_acc: 0.7220\n",
      "Epoch 25/30\n",
      "100/100 [==============================] - 78s 780ms/step - loss: 0.0941 - acc: 0.9730 - val_loss: 0.8078 - val_acc: 0.7410\n",
      "Epoch 26/30\n",
      "100/100 [==============================] - 77s 774ms/step - loss: 0.0807 - acc: 0.9730 - val_loss: 0.8138 - val_acc: 0.7370\n",
      "Epoch 27/30\n",
      "100/100 [==============================] - 79s 796ms/step - loss: 0.0690 - acc: 0.9800 - val_loss: 0.9045 - val_acc: 0.7290\n",
      "Epoch 28/30\n",
      "100/100 [==============================] - 78s 778ms/step - loss: 0.0570 - acc: 0.9850 - val_loss: 1.1359 - val_acc: 0.7000\n",
      "Epoch 29/30\n",
      "100/100 [==============================] - 78s 785ms/step - loss: 0.0512 - acc: 0.9870 - val_loss: 0.9049 - val_acc: 0.7320\n",
      "Epoch 30/30\n",
      "100/100 [==============================] - 81s 810ms/step - loss: 0.0391 - acc: 0.9885 - val_loss: 0.9490 - val_acc: 0.7370\n"
     ]
    }
   ],
   "source": [
    "history = model.fit_generator(train_generator,steps_per_epoch=100,epochs=30,validation_data=validation_generator,\n",
    "                              validation_steps=50)"
   ]
  },
  {
   "cell_type": "markdown",
   "id": "1517584b",
   "metadata": {},
   "source": [
    "# Visualizing the model Performence During training"
   ]
  },
  {
   "cell_type": "code",
   "execution_count": 14,
   "id": "ccc94399",
   "metadata": {},
   "outputs": [
    {
     "data": {
      "text/plain": [
       "<Figure size 432x288 with 0 Axes>"
      ]
     },
     "execution_count": 14,
     "metadata": {},
     "output_type": "execute_result"
    },
    {
     "data": {
      "image/png": "[encoded data removed]",
      "text/plain": [
       "<Figure size 432x288 with 1 Axes>"
      ]
     },
     "metadata": {
      "needs_background": "light"
     },
     "output_type": "display_data"
    },
    {
     "data": {
      "text/plain": [
       "<Figure size 432x288 with 0 Axes>"
      ]
     },
     "metadata": {},
     "output_type": "display_data"
    }
   ],
   "source": [
    "import matplotlib.pyplot as plt\n",
    "acc = history.history['acc']\n",
    "val_acc = history.history['val_acc']\n",
    "loss = history.history['loss']\n",
    "val_loss = history.history['val_loss']\n",
    "epochs = range(1, len(acc) + 1)\n",
    "plt.plot(epochs, acc, 'bo', label='Training acc')\n",
    "plt.plot(epochs, val_acc, 'b', label='Validation acc')\n",
    "plt.title('Training and validation accuracy')\n",
    "plt.legend()\n",
    "plt.figure()"
   ]
  },
  {
   "cell_type": "code",
   "execution_count": 15,
   "id": "5ae925db",
   "metadata": {
    "scrolled": true
   },
   "outputs": [
    {
     "data": {
      "image/png": "[encoded data removed]",
      "text/plain": [
       "<Figure size 432x288 with 1 Axes>"
      ]
     },
     "metadata": {
      "needs_background": "light"
     },
     "output_type": "display_data"
    }
   ],
   "source": [
    "plt.plot(epochs, loss, 'bo', label='Training loss')\n",
    "plt.plot(epochs, val_loss, 'b', label='Validation loss')\n",
    "plt.title('Training and validation loss')\n",
    "plt.legend()\n",
    "plt.show()"
   ]
  },
  {
   "cell_type": "markdown",
   "id": "86fe4102",
   "metadata": {},
   "source": [
    "# Data Augmentation"
   ]
  },
  {
   "cell_type": "code",
   "execution_count": 21,
   "id": "173e9496",
   "metadata": {},
   "outputs": [],
   "source": [
    "from keras.preprocessing.image import ImageDataGenerator\n",
    "train_datagen = ImageDataGenerator(\n",
    "rescale=1./255,\n",
    "rotation_range=40,\n",
    "width_shift_range=0.2,\n",
    "height_shift_range=0.2,\n",
    "shear_range=0.2,\n",
    "zoom_range=0.2,\n",
    "horizontal_flip=True,)\n",
    "test_datagen = ImageDataGenerator(rescale=1./255)"
   ]
  },
  {
   "cell_type": "code",
   "execution_count": 26,
   "id": "c1b293f3",
   "metadata": {},
   "outputs": [
    {
     "name": "stdout",
     "output_type": "stream",
     "text": [
      "Found 2000 images belonging to 2 classes.\n",
      "Found 1000 images belonging to 2 classes.\n"
     ]
    }
   ],
   "source": [
    "train_generator = train_datagen.flow_from_directory(\n",
    "train_dir,\n",
    "target_size=(150, 150),\n",
    "batch_size=20,\n",
    "class_mode='binary')\n",
    "validation_generator = test_datagen.flow_from_directory(\n",
    "validation_dir,\n",
    "target_size=(150, 150),\n",
    "batch_size=20,\n",
    "class_mode='binary')"
   ]
  },
  {
   "cell_type": "markdown",
   "id": "2af365d1",
   "metadata": {},
   "source": [
    "# Model Architecture with dropout layer"
   ]
  },
  {
   "cell_type": "code",
   "execution_count": 31,
   "id": "1033dcd0",
   "metadata": {},
   "outputs": [],
   "source": [
    "model = models.Sequential()\n",
    "model.add(layers.Conv2D(32, (3, 3), activation='relu',input_shape=(150, 150, 3)))\n",
    "model.add(layers.MaxPooling2D((2, 2)))\n",
    "model.add(layers.Conv2D(64, (3, 3), activation='relu'))\n",
    "model.add(layers.MaxPooling2D((2, 2)))\n",
    "model.add(layers.Conv2D(128, (3, 3), activation='relu'))\n",
    "model.add(layers.MaxPooling2D((2, 2)))\n",
    "model.add(layers.Conv2D(128, (3, 3), activation='relu'))\n",
    "model.add(layers.MaxPooling2D((2, 2)))\n",
    "\n",
    "model.add(layers.Flatten())\n",
    "model.add(layers.Dropout(0.5))\n",
    "model.add(layers.Dense(512, activation='relu'))\n",
    "model.add(layers.Dense(1, activation='sigmoid'))"
   ]
  },
  {
   "cell_type": "code",
   "execution_count": 32,
   "id": "7a9cbb4c",
   "metadata": {},
   "outputs": [],
   "source": [
    "from keras import optimizers\n",
    "model.compile(loss='binary_crossentropy',optimizer=optimizers.RMSprop(lr=1e-4),metrics=['acc'])"
   ]
  },
  {
   "cell_type": "code",
   "execution_count": 33,
   "id": "04711dda",
   "metadata": {},
   "outputs": [
    {
     "name": "stderr",
     "output_type": "stream",
     "text": [
      "C:\\Users\\DELL\\AppData\\Local\\Temp\\ipykernel_7680\\786575719.py:1: UserWarning: `Model.fit_generator` is deprecated and will be removed in a future version. Please use `Model.fit`, which supports generators.\n",
      "  history = model.fit_generator(\n"
     ]
    },
    {
     "name": "stdout",
     "output_type": "stream",
     "text": [
      "Epoch 1/100\n",
      "100/100 [==============================] - 75s 734ms/step - loss: 0.6949 - acc: 0.5170 - val_loss: 0.6826 - val_acc: 0.5070\n",
      "Epoch 2/100\n",
      "100/100 [==============================] - 74s 737ms/step - loss: 0.6844 - acc: 0.5385 - val_loss: 0.6690 - val_acc: 0.5960\n",
      "Epoch 3/100\n",
      "100/100 [==============================] - 84s 840ms/step - loss: 0.6661 - acc: 0.5900 - val_loss: 0.6793 - val_acc: 0.5640\n",
      "Epoch 4/100\n",
      "100/100 [==============================] - 92s 917ms/step - loss: 0.6532 - acc: 0.6065 - val_loss: 0.7098 - val_acc: 0.5800\n",
      "Epoch 5/100\n",
      "100/100 [==============================] - 94s 936ms/step - loss: 0.6388 - acc: 0.6325 - val_loss: 0.6050 - val_acc: 0.6670\n",
      "Epoch 6/100\n",
      "100/100 [==============================] - 93s 927ms/step - loss: 0.6242 - acc: 0.6460 - val_loss: 0.5934 - val_acc: 0.6800\n",
      "Epoch 7/100\n",
      "100/100 [==============================] - 93s 928ms/step - loss: 0.6126 - acc: 0.6575 - val_loss: 0.6178 - val_acc: 0.6610\n",
      "Epoch 8/100\n",
      "100/100 [==============================] - 93s 930ms/step - loss: 0.6039 - acc: 0.6675 - val_loss: 0.5813 - val_acc: 0.6890\n",
      "Epoch 9/100\n",
      "100/100 [==============================] - 93s 931ms/step - loss: 0.5901 - acc: 0.6865 - val_loss: 0.6059 - val_acc: 0.6670\n",
      "Epoch 10/100\n",
      "100/100 [==============================] - 94s 941ms/step - loss: 0.5818 - acc: 0.6870 - val_loss: 0.5746 - val_acc: 0.7010\n",
      "Epoch 11/100\n",
      "100/100 [==============================] - 93s 931ms/step - loss: 0.5811 - acc: 0.6855 - val_loss: 0.5607 - val_acc: 0.7100\n",
      "Epoch 12/100\n",
      "100/100 [==============================] - 90s 898ms/step - loss: 0.5660 - acc: 0.7040 - val_loss: 0.5492 - val_acc: 0.7090\n",
      "Epoch 13/100\n",
      "100/100 [==============================] - 99s 991ms/step - loss: 0.5619 - acc: 0.7040 - val_loss: 0.5676 - val_acc: 0.6910\n",
      "Epoch 14/100\n",
      "100/100 [==============================] - 86s 855ms/step - loss: 0.5601 - acc: 0.7095 - val_loss: 0.5991 - val_acc: 0.6700\n",
      "Epoch 15/100\n",
      "100/100 [==============================] - 78s 778ms/step - loss: 0.5654 - acc: 0.7155 - val_loss: 0.5469 - val_acc: 0.7140\n",
      "Epoch 16/100\n",
      "100/100 [==============================] - 75s 747ms/step - loss: 0.5548 - acc: 0.7210 - val_loss: 0.5407 - val_acc: 0.7150\n",
      "Epoch 17/100\n",
      "100/100 [==============================] - 79s 792ms/step - loss: 0.5545 - acc: 0.7180 - val_loss: 0.5331 - val_acc: 0.7260\n",
      "Epoch 18/100\n",
      "100/100 [==============================] - 82s 818ms/step - loss: 0.5666 - acc: 0.7090 - val_loss: 0.5360 - val_acc: 0.7140\n",
      "Epoch 19/100\n",
      "100/100 [==============================] - 82s 814ms/step - loss: 0.5532 - acc: 0.7125 - val_loss: 0.5330 - val_acc: 0.7150\n",
      "Epoch 20/100\n",
      "100/100 [==============================] - 102s 1s/step - loss: 0.5455 - acc: 0.7330 - val_loss: 0.5206 - val_acc: 0.7300\n",
      "Epoch 21/100\n",
      "100/100 [==============================] - 76s 761ms/step - loss: 0.5503 - acc: 0.7095 - val_loss: 0.5323 - val_acc: 0.7140\n",
      "Epoch 22/100\n",
      "100/100 [==============================] - 81s 815ms/step - loss: 0.5523 - acc: 0.7185 - val_loss: 0.5351 - val_acc: 0.7270\n",
      "Epoch 23/100\n",
      "100/100 [==============================] - 81s 808ms/step - loss: 0.5312 - acc: 0.7340 - val_loss: 0.5246 - val_acc: 0.7250\n",
      "Epoch 24/100\n",
      "100/100 [==============================] - 77s 768ms/step - loss: 0.5285 - acc: 0.7335 - val_loss: 0.5184 - val_acc: 0.7350\n",
      "Epoch 25/100\n",
      "100/100 [==============================] - 74s 740ms/step - loss: 0.5404 - acc: 0.7215 - val_loss: 0.5513 - val_acc: 0.7130\n",
      "Epoch 26/100\n",
      "100/100 [==============================] - 74s 739ms/step - loss: 0.5355 - acc: 0.7340 - val_loss: 0.5100 - val_acc: 0.7300\n",
      "Epoch 27/100\n",
      "100/100 [==============================] - 77s 770ms/step - loss: 0.5255 - acc: 0.7410 - val_loss: 0.5616 - val_acc: 0.7170\n",
      "Epoch 28/100\n",
      "100/100 [==============================] - 73s 730ms/step - loss: 0.5229 - acc: 0.7435 - val_loss: 0.4912 - val_acc: 0.7570\n",
      "Epoch 29/100\n",
      "100/100 [==============================] - 73s 731ms/step - loss: 0.5127 - acc: 0.7505 - val_loss: 0.4871 - val_acc: 0.7570\n",
      "Epoch 30/100\n",
      "100/100 [==============================] - 74s 739ms/step - loss: 0.5196 - acc: 0.7500 - val_loss: 0.4786 - val_acc: 0.7580\n",
      "Epoch 31/100\n",
      "100/100 [==============================] - 73s 732ms/step - loss: 0.5148 - acc: 0.7365 - val_loss: 0.5725 - val_acc: 0.6900\n",
      "Epoch 32/100\n",
      "100/100 [==============================] - 73s 730ms/step - loss: 0.5196 - acc: 0.7525 - val_loss: 0.5192 - val_acc: 0.7370\n",
      "Epoch 33/100\n",
      "100/100 [==============================] - 78s 784ms/step - loss: 0.5036 - acc: 0.7590 - val_loss: 0.5059 - val_acc: 0.7350\n",
      "Epoch 34/100\n",
      "100/100 [==============================] - 79s 787ms/step - loss: 0.5139 - acc: 0.7445 - val_loss: 0.5150 - val_acc: 0.7360\n",
      "Epoch 35/100\n",
      "100/100 [==============================] - 77s 772ms/step - loss: 0.5061 - acc: 0.7520 - val_loss: 0.5284 - val_acc: 0.7360\n",
      "Epoch 36/100\n",
      "100/100 [==============================] - 78s 772ms/step - loss: 0.4965 - acc: 0.7535 - val_loss: 0.4768 - val_acc: 0.7750\n",
      "Epoch 37/100\n",
      "100/100 [==============================] - 85s 849ms/step - loss: 0.5011 - acc: 0.7570 - val_loss: 0.5136 - val_acc: 0.7490\n",
      "Epoch 38/100\n",
      "100/100 [==============================] - 90s 895ms/step - loss: 0.4875 - acc: 0.7725 - val_loss: 0.4805 - val_acc: 0.7540\n",
      "Epoch 39/100\n",
      "100/100 [==============================] - 79s 789ms/step - loss: 0.4803 - acc: 0.7740 - val_loss: 0.5345 - val_acc: 0.7200\n",
      "Epoch 40/100\n",
      "100/100 [==============================] - 76s 763ms/step - loss: 0.5041 - acc: 0.7530 - val_loss: 0.4700 - val_acc: 0.7710\n",
      "Epoch 41/100\n",
      "100/100 [==============================] - 75s 748ms/step - loss: 0.4895 - acc: 0.7660 - val_loss: 0.4864 - val_acc: 0.7660\n",
      "Epoch 42/100\n",
      "100/100 [==============================] - 75s 745ms/step - loss: 0.4883 - acc: 0.7620 - val_loss: 0.4632 - val_acc: 0.7720\n",
      "Epoch 43/100\n",
      "100/100 [==============================] - 75s 754ms/step - loss: 0.4892 - acc: 0.7550 - val_loss: 0.4654 - val_acc: 0.7730\n",
      "Epoch 44/100\n",
      "100/100 [==============================] - 78s 783ms/step - loss: 0.4668 - acc: 0.7780 - val_loss: 0.4444 - val_acc: 0.7940\n",
      "Epoch 45/100\n",
      "100/100 [==============================] - 76s 764ms/step - loss: 0.4706 - acc: 0.7735 - val_loss: 0.4871 - val_acc: 0.7630\n",
      "Epoch 46/100\n",
      "100/100 [==============================] - 77s 770ms/step - loss: 0.4921 - acc: 0.7565 - val_loss: 0.4554 - val_acc: 0.7850\n",
      "Epoch 47/100\n",
      "100/100 [==============================] - 76s 758ms/step - loss: 0.4798 - acc: 0.7655 - val_loss: 0.5107 - val_acc: 0.7570\n",
      "Epoch 48/100\n",
      "100/100 [==============================] - 89s 887ms/step - loss: 0.4682 - acc: 0.7770 - val_loss: 0.5246 - val_acc: 0.7540\n",
      "Epoch 49/100\n",
      "100/100 [==============================] - 83s 824ms/step - loss: 0.4719 - acc: 0.7785 - val_loss: 0.4737 - val_acc: 0.7690\n",
      "Epoch 50/100\n",
      "100/100 [==============================] - 77s 765ms/step - loss: 0.4689 - acc: 0.7770 - val_loss: 0.4570 - val_acc: 0.7840\n",
      "Epoch 51/100\n",
      "100/100 [==============================] - 81s 813ms/step - loss: 0.4499 - acc: 0.7890 - val_loss: 0.5607 - val_acc: 0.7560\n",
      "Epoch 52/100\n",
      "100/100 [==============================] - 83s 826ms/step - loss: 0.4539 - acc: 0.7940 - val_loss: 0.5117 - val_acc: 0.7460\n",
      "Epoch 53/100\n",
      "100/100 [==============================] - 79s 795ms/step - loss: 0.4722 - acc: 0.7710 - val_loss: 0.4751 - val_acc: 0.7700\n",
      "Epoch 54/100\n",
      "100/100 [==============================] - 75s 748ms/step - loss: 0.4663 - acc: 0.7760 - val_loss: 0.4902 - val_acc: 0.7760\n",
      "Epoch 55/100\n",
      "100/100 [==============================] - 81s 812ms/step - loss: 0.4601 - acc: 0.7770 - val_loss: 0.5311 - val_acc: 0.7490\n",
      "Epoch 56/100\n",
      "100/100 [==============================] - 80s 799ms/step - loss: 0.4611 - acc: 0.7825 - val_loss: 0.5290 - val_acc: 0.7620\n",
      "Epoch 57/100\n",
      "100/100 [==============================] - 77s 770ms/step - loss: 0.4482 - acc: 0.7800 - val_loss: 0.5171 - val_acc: 0.7540\n",
      "Epoch 58/100\n",
      "100/100 [==============================] - 75s 746ms/step - loss: 0.4382 - acc: 0.8005 - val_loss: 0.4976 - val_acc: 0.7670\n",
      "Epoch 59/100\n",
      "100/100 [==============================] - 77s 768ms/step - loss: 0.4448 - acc: 0.7910 - val_loss: 0.4898 - val_acc: 0.7690\n",
      "Epoch 60/100\n",
      "100/100 [==============================] - 76s 761ms/step - loss: 0.4588 - acc: 0.7805 - val_loss: 0.4500 - val_acc: 0.7960\n"
     ]
    },
    {
     "name": "stdout",
     "output_type": "stream",
     "text": [
      "Epoch 61/100\n",
      "100/100 [==============================] - 82s 816ms/step - loss: 0.4531 - acc: 0.7785 - val_loss: 0.4608 - val_acc: 0.7820\n",
      "Epoch 62/100\n",
      "100/100 [==============================] - 78s 774ms/step - loss: 0.4477 - acc: 0.7860 - val_loss: 0.4495 - val_acc: 0.7870\n",
      "Epoch 63/100\n",
      "100/100 [==============================] - 75s 746ms/step - loss: 0.4567 - acc: 0.7800 - val_loss: 0.4882 - val_acc: 0.7620\n",
      "Epoch 64/100\n",
      "100/100 [==============================] - 76s 755ms/step - loss: 0.4494 - acc: 0.7840 - val_loss: 0.4610 - val_acc: 0.7880\n",
      "Epoch 65/100\n",
      "100/100 [==============================] - 82s 822ms/step - loss: 0.4518 - acc: 0.7840 - val_loss: 0.4382 - val_acc: 0.8000\n",
      "Epoch 66/100\n",
      "100/100 [==============================] - 78s 779ms/step - loss: 0.4439 - acc: 0.7900 - val_loss: 0.4599 - val_acc: 0.7910\n",
      "Epoch 67/100\n",
      "100/100 [==============================] - 76s 763ms/step - loss: 0.4350 - acc: 0.7970 - val_loss: 0.4335 - val_acc: 0.8020\n",
      "Epoch 68/100\n",
      "100/100 [==============================] - 78s 778ms/step - loss: 0.4406 - acc: 0.8030 - val_loss: 0.4347 - val_acc: 0.8120\n",
      "Epoch 69/100\n",
      "100/100 [==============================] - 78s 780ms/step - loss: 0.4395 - acc: 0.7985 - val_loss: 0.4840 - val_acc: 0.7760\n",
      "Epoch 70/100\n",
      "100/100 [==============================] - 77s 769ms/step - loss: 0.4294 - acc: 0.7965 - val_loss: 0.4714 - val_acc: 0.7940\n",
      "Epoch 71/100\n",
      "100/100 [==============================] - 78s 782ms/step - loss: 0.4247 - acc: 0.8055 - val_loss: 0.4779 - val_acc: 0.7720\n",
      "Epoch 72/100\n",
      "100/100 [==============================] - 75s 745ms/step - loss: 0.4305 - acc: 0.7955 - val_loss: 0.4768 - val_acc: 0.7740\n",
      "Epoch 73/100\n",
      "100/100 [==============================] - 80s 798ms/step - loss: 0.4301 - acc: 0.8045 - val_loss: 0.4424 - val_acc: 0.8050\n",
      "Epoch 74/100\n",
      "100/100 [==============================] - 78s 781ms/step - loss: 0.4245 - acc: 0.8075 - val_loss: 0.4912 - val_acc: 0.7870\n",
      "Epoch 75/100\n",
      "100/100 [==============================] - 75s 748ms/step - loss: 0.4408 - acc: 0.8005 - val_loss: 0.4406 - val_acc: 0.8000\n",
      "Epoch 76/100\n",
      "100/100 [==============================] - 75s 744ms/step - loss: 0.4218 - acc: 0.8150 - val_loss: 0.4701 - val_acc: 0.7990\n",
      "Epoch 77/100\n",
      "100/100 [==============================] - 75s 749ms/step - loss: 0.4154 - acc: 0.8090 - val_loss: 0.4653 - val_acc: 0.7700\n",
      "Epoch 78/100\n",
      "100/100 [==============================] - 80s 805ms/step - loss: 0.4102 - acc: 0.8165 - val_loss: 0.5147 - val_acc: 0.7570\n",
      "Epoch 79/100\n",
      "100/100 [==============================] - 80s 797ms/step - loss: 0.4028 - acc: 0.8120 - val_loss: 0.4925 - val_acc: 0.7850\n",
      "Epoch 80/100\n",
      "100/100 [==============================] - 76s 759ms/step - loss: 0.4032 - acc: 0.8125 - val_loss: 0.5964 - val_acc: 0.7340\n",
      "Epoch 81/100\n",
      "100/100 [==============================] - 78s 779ms/step - loss: 0.4137 - acc: 0.8070 - val_loss: 0.4503 - val_acc: 0.8110\n",
      "Epoch 82/100\n",
      "100/100 [==============================] - 77s 770ms/step - loss: 0.4098 - acc: 0.8090 - val_loss: 0.4281 - val_acc: 0.8160\n",
      "Epoch 83/100\n",
      "100/100 [==============================] - 89s 895ms/step - loss: 0.4126 - acc: 0.8205 - val_loss: 0.4497 - val_acc: 0.8080\n",
      "Epoch 84/100\n",
      "100/100 [==============================] - 77s 766ms/step - loss: 0.4066 - acc: 0.8125 - val_loss: 0.4614 - val_acc: 0.8080\n",
      "Epoch 85/100\n",
      "100/100 [==============================] - 76s 755ms/step - loss: 0.4026 - acc: 0.8215 - val_loss: 0.4728 - val_acc: 0.7980\n",
      "Epoch 86/100\n",
      "100/100 [==============================] - 75s 750ms/step - loss: 0.4079 - acc: 0.8100 - val_loss: 0.4334 - val_acc: 0.8000\n",
      "Epoch 87/100\n",
      "100/100 [==============================] - 76s 757ms/step - loss: 0.3957 - acc: 0.8190 - val_loss: 0.4648 - val_acc: 0.7910\n",
      "Epoch 88/100\n",
      "100/100 [==============================] - 77s 767ms/step - loss: 0.4142 - acc: 0.8095 - val_loss: 0.4808 - val_acc: 0.7980\n",
      "Epoch 89/100\n",
      "100/100 [==============================] - 75s 749ms/step - loss: 0.4029 - acc: 0.8210 - val_loss: 0.4531 - val_acc: 0.8100\n",
      "Epoch 90/100\n",
      "100/100 [==============================] - 74s 743ms/step - loss: 0.3915 - acc: 0.8240 - val_loss: 0.4739 - val_acc: 0.7990\n",
      "Epoch 91/100\n",
      "100/100 [==============================] - 76s 758ms/step - loss: 0.4098 - acc: 0.8180 - val_loss: 0.4087 - val_acc: 0.8210\n",
      "Epoch 92/100\n",
      "100/100 [==============================] - 77s 768ms/step - loss: 0.3944 - acc: 0.8210 - val_loss: 0.4164 - val_acc: 0.8190\n",
      "Epoch 93/100\n",
      "100/100 [==============================] - 75s 751ms/step - loss: 0.3808 - acc: 0.8275 - val_loss: 0.4223 - val_acc: 0.8140\n",
      "Epoch 94/100\n",
      "100/100 [==============================] - 77s 763ms/step - loss: 0.3867 - acc: 0.8340 - val_loss: 0.4264 - val_acc: 0.8230\n",
      "Epoch 95/100\n",
      "100/100 [==============================] - 75s 747ms/step - loss: 0.3827 - acc: 0.8240 - val_loss: 0.4935 - val_acc: 0.7990\n",
      "Epoch 96/100\n",
      "100/100 [==============================] - 75s 745ms/step - loss: 0.3867 - acc: 0.8285 - val_loss: 0.4421 - val_acc: 0.8120\n",
      "Epoch 97/100\n",
      "100/100 [==============================] - 77s 773ms/step - loss: 0.4014 - acc: 0.8210 - val_loss: 0.4573 - val_acc: 0.7960\n",
      "Epoch 98/100\n",
      "100/100 [==============================] - 84s 837ms/step - loss: 0.3789 - acc: 0.8300 - val_loss: 0.4906 - val_acc: 0.8030\n",
      "Epoch 99/100\n",
      "100/100 [==============================] - 82s 816ms/step - loss: 0.3877 - acc: 0.8230 - val_loss: 0.4221 - val_acc: 0.8080\n",
      "Epoch 100/100\n",
      "100/100 [==============================] - 82s 815ms/step - loss: 0.3821 - acc: 0.8270 - val_loss: 0.4322 - val_acc: 0.8120\n"
     ]
    }
   ],
   "source": [
    "history = model.fit_generator(\n",
    "train_generator,\n",
    "steps_per_epoch=100,\n",
    "epochs=100,\n",
    "validation_data=validation_generator,\n",
    "validation_steps=50)"
   ]
  },
  {
   "cell_type": "code",
   "execution_count": 34,
   "id": "a608ce9a",
   "metadata": {},
   "outputs": [
    {
     "data": {
      "image/png": "[encoded data removed]",
      "text/plain": [
       "<Figure size 432x288 with 1 Axes>"
      ]
     },
     "metadata": {
      "needs_background": "light"
     },
     "output_type": "display_data"
    },
    {
     "data": {
      "image/png": "[encoded data removed]",
      "text/plain": [
       "<Figure size 432x288 with 1 Axes>"
      ]
     },
     "metadata": {
      "needs_background": "light"
     },
     "output_type": "display_data"
    }
   ],
   "source": [
    "acc = history.history['acc']\n",
    "val_acc = history.history['val_acc']\n",
    "loss = history.history['loss']\n",
    "val_loss = history.history['val_loss']\n",
    "epochs = range(1, len(acc) + 1)\n",
    "plt.plot(epochs, acc, 'bo', label='Training acc')\n",
    "plt.plot(epochs, val_acc, 'b', label='Validation acc')\n",
    "plt.title('Training and validation accuracy')\n",
    "plt.legend()\n",
    "plt.figure()\n",
    "plt.plot(epochs, loss, 'bo', label='Training loss')\n",
    "plt.plot(epochs, val_loss, 'b', label='Validation loss')\n",
    "plt.title('Training and validation loss')\n",
    "plt.legend()\n",
    "plt.show()"
   ]
  }
 ],
 "metadata": {
  "kernelspec": {
   "display_name": "Python 3 (ipykernel)",
   "language": "python",
   "name": "python3"
  },
  "language_info": {
   "codemirror_mode": {
    "name": "ipython",
    "version": 3
   },
   "file_extension": ".py",
   "mimetype": "text/x-python",
   "name": "python",
   "nbconvert_exporter": "python",
   "pygments_lexer": "ipython3",
   "version": "3.10.4"
  }
 },
 "nbformat": 4,
 "nbformat_minor": 5
}
